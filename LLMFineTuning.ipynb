{
  "cells": [
    {
      "cell_type": "markdown",
      "metadata": {
        "id": "muhYFog37cEf"
      },
      "source": [
        "# Final Tuning of LLM\n"
      ]
    },
    {
      "cell_type": "markdown",
      "metadata": {
        "id": "DR6sRJpo652l"
      },
      "source": [
        "### Installing the required libraries"
      ]
    },
    {
      "cell_type": "code",
      "execution_count": null,
      "metadata": {
        "id": "XYnYqd74JqaD"
      },
      "outputs": [],
      "source": [
        "!pip install datasets\n",
        "!pip install transformers[torch]\n",
        "!pip install peft\n",
        "!pip install trl\n",
        "!pip install bitsandbytes\n",
        "!pip install evaluate"
      ]
    },
    {
      "cell_type": "markdown",
      "metadata": {
        "id": "5DEYll157l3w"
      },
      "source": [
        "### Importing the required libraries"
      ]
    },
    {
      "cell_type": "code",
      "execution_count": null,
      "metadata": {
        "id": "yQEppRz0JkLH"
      },
      "outputs": [],
      "source": [
        "import torch\n",
        "from datasets import load_dataset\n",
        "from transformers import AutoTokenizer, DefaultDataCollator , AutoModelForQuestionAnswering, AutoModelForCausalLM, TrainingArguments, Trainer, pipeline, BitsAndBytesConfig\n",
        "from trl import SFTTrainer\n",
        "from evaluate import load\n",
        "from peft import LoraConfig, get_peft_model"
      ]
    },
    {
      "cell_type": "markdown",
      "source": [
        "### Mounting Google Drive"
      ],
      "metadata": {
        "id": "mxYcUhE67vfR"
      }
    },
    {
      "cell_type": "code",
      "execution_count": null,
      "metadata": {
        "id": "V2IzGuE6KrGB"
      },
      "outputs": [],
      "source": [
        "from google.colab import drive\n",
        "drive.mount('/content/drive')"
      ]
    },
    {
      "cell_type": "code",
      "execution_count": null,
      "metadata": {
        "id": "Eat-zzhAKwNq"
      },
      "outputs": [],
      "source": [
        "path = '/content/drive/MyDrive/ATAI/'"
      ]
    },
    {
      "cell_type": "markdown",
      "metadata": {
        "id": "3lM5ggHL700B"
      },
      "source": [
        "### Pre Processing functions"
      ]
    },
    {
      "cell_type": "code",
      "source": [
        "def performance_metrics(model, tokenizer):\n",
        "  question_answerer = pipeline(\"question-answering\", model=model, tokenizer = tokenizer)\n",
        "\n",
        "  predictions = []\n",
        "  references = []\n",
        "\n",
        "  for example in squad_test:\n",
        "      # Get the prediction for the current example\n",
        "      prediction = question_answerer(context = example['context'], question = example['question'])\n",
        "\n",
        "      # Store the prediction in the predictions list\n",
        "      predictions.append({\n",
        "          'prediction_text': prediction['answer'],\n",
        "          'id': example['id']\n",
        "      })\n",
        "\n",
        "      # Store the reference in the references list\n",
        "      references.append({\n",
        "          'answers': {\n",
        "              'answer_start': example['answers']['answer_start'],\n",
        "              'text': example['answers']['text']\n",
        "          },\n",
        "          'id': example['id']\n",
        "      })\n",
        "\n",
        "  print(squad_metric.compute(predictions=predictions, references=references))"
      ],
      "metadata": {
        "id": "-ckldCYtpfob"
      },
      "execution_count": null,
      "outputs": []
    },
    {
      "cell_type": "code",
      "execution_count": null,
      "metadata": {
        "id": "ScJ3fVibJ6ux"
      },
      "outputs": [],
      "source": [
        "def preprocess_function(examples):\n",
        "    questions = [q.strip() for q in examples[\"question\"]]\n",
        "    inputs = tokenizer(\n",
        "        questions,\n",
        "        examples[\"context\"],\n",
        "        max_length=512,\n",
        "        truncation=\"only_second\",\n",
        "        return_offsets_mapping=True,\n",
        "        padding=\"max_length\",\n",
        "    )\n",
        "\n",
        "    offset_mapping = inputs.pop(\"offset_mapping\")\n",
        "    answers = examples[\"answers\"]\n",
        "    start_positions = []\n",
        "    end_positions = []\n",
        "\n",
        "    for i, offset in enumerate(offset_mapping):\n",
        "        answer = answers[i]\n",
        "        start_char = answer[\"answer_start\"][0]\n",
        "        end_char = answer[\"answer_start\"][0] + len(answer[\"text\"][0])\n",
        "        sequence_ids = inputs.sequence_ids(i)\n",
        "\n",
        "        # Find the start and end of the context\n",
        "        idx = 0\n",
        "        while sequence_ids[idx] != 1:\n",
        "            idx += 1\n",
        "        context_start = idx\n",
        "        while sequence_ids[idx] == 1:\n",
        "            idx += 1\n",
        "        context_end = idx - 1\n",
        "\n",
        "        # If the answer is not fully inside the context, label it (0, 0)\n",
        "        if offset[context_start][0] > end_char or offset[context_end][1] < start_char:\n",
        "            start_positions.append(0)\n",
        "            end_positions.append(0)\n",
        "        else:\n",
        "            # Otherwise it's the start and end token positions\n",
        "            idx = context_start\n",
        "            while idx <= context_end and offset[idx][0] <= start_char:\n",
        "                idx += 1\n",
        "            start_positions.append(idx - 1)\n",
        "\n",
        "            idx = context_end\n",
        "            while idx >= context_start and offset[idx][1] >= end_char:\n",
        "                idx -= 1\n",
        "            end_positions.append(idx + 1)\n",
        "\n",
        "    inputs[\"start_positions\"] = start_positions\n",
        "    inputs[\"end_positions\"] = end_positions\n",
        "    return inputs"
      ]
    },
    {
      "cell_type": "markdown",
      "metadata": {
        "id": "pdBdvRJk-BPx"
      },
      "source": [
        "### Data collection"
      ]
    },
    {
      "cell_type": "code",
      "execution_count": null,
      "metadata": {
        "id": "RurNV-M0d4we"
      },
      "outputs": [],
      "source": [
        "squad = load_dataset(\"squad\", split=\"train\")"
      ]
    },
    {
      "cell_type": "code",
      "execution_count": null,
      "metadata": {
        "id": "Jg40-IIHL3Pb"
      },
      "outputs": [],
      "source": [
        "squad = squad.train_test_split(test_size=0.2)"
      ]
    },
    {
      "cell_type": "markdown",
      "metadata": {
        "id": "Y0wHiHhB-GeO"
      },
      "source": [
        "### Preprocessing"
      ]
    },
    {
      "cell_type": "markdown",
      "source": [
        "#### Loading the Tokenizer"
      ],
      "metadata": {
        "id": "oZvg34lWEt0N"
      }
    },
    {
      "cell_type": "code",
      "execution_count": null,
      "metadata": {
        "id": "yDLLll6Ld61-"
      },
      "outputs": [],
      "source": [
        "tokenizer = AutoTokenizer.from_pretrained(\"distilbert-base-uncased\")\n",
        "tokenizer_bert = AutoTokenizer.from_pretrained(\"bert-base-uncased\")"
      ]
    },
    {
      "cell_type": "code",
      "execution_count": null,
      "metadata": {
        "id": "W8abkLeQd83u"
      },
      "outputs": [],
      "source": [
        "tokenized_squad = squad.map(preprocess_function, batched=True)"
      ]
    },
    {
      "cell_type": "markdown",
      "metadata": {
        "id": "hoSEebTK-hgh"
      },
      "source": [
        "#### Data Collator"
      ]
    },
    {
      "cell_type": "code",
      "execution_count": null,
      "metadata": {
        "id": "_xDTvQWcKEdx"
      },
      "outputs": [],
      "source": [
        "data_collator = DefaultDataCollator()"
      ]
    },
    {
      "cell_type": "markdown",
      "source": [
        "### Model Selection"
      ],
      "metadata": {
        "id": "K7UXCV_kE0Dh"
      }
    },
    {
      "cell_type": "markdown",
      "metadata": {
        "id": "-BOPGhsG-lJh"
      },
      "source": [
        "#### Loading the DistillBERT model"
      ]
    },
    {
      "cell_type": "code",
      "execution_count": null,
      "metadata": {
        "id": "gSeAOwoLKO7i"
      },
      "outputs": [],
      "source": [
        "model = AutoModelForQuestionAnswering.from_pretrained(\"distilbert-base-uncased\")"
      ]
    },
    {
      "cell_type": "code",
      "source": [
        "performance_metrics(model, tokenizer)"
      ],
      "metadata": {
        "colab": {
          "base_uri": "https://localhost:8080/"
        },
        "id": "Qzj2UeTq8PJi",
        "outputId": "5aab82e8-9ee6-4528-f2dc-c5ff5f19cf88"
      },
      "execution_count": null,
      "outputs": [
        {
          "output_type": "stream",
          "name": "stdout",
          "text": [
            "{'exact_match': 0.0, 'f1': 4.1435612426788895}\n"
          ]
        }
      ]
    },
    {
      "cell_type": "markdown",
      "metadata": {
        "id": "vL6Xgn9F_MtJ"
      },
      "source": [
        "## Fine-Tuning of the models"
      ]
    },
    {
      "cell_type": "markdown",
      "metadata": {
        "id": "zKppTKAG_Qjg"
      },
      "source": [
        "### Fine tuning for 2 epoch"
      ]
    },
    {
      "cell_type": "code",
      "execution_count": null,
      "metadata": {
        "id": "ikCYkvgCKVEK"
      },
      "outputs": [],
      "source": [
        "training_args_1 = TrainingArguments(\n",
        "    output_dir=path,\n",
        "    learning_rate=2e-5,\n",
        "    per_device_train_batch_size=16,\n",
        "    per_device_eval_batch_size=16,\n",
        "    num_train_epochs=2,\n",
        "    logging_steps=500,\n",
        "    weight_decay=0.01\n",
        ")\n",
        "\n",
        "trainer_1 = Trainer(\n",
        "    model=model,\n",
        "    args=training_args_1,\n",
        "    train_dataset=tokenized_squad[\"train\"],\n",
        "    eval_dataset=tokenized_squad[\"test\"],\n",
        "    tokenizer=tokenizer,\n",
        "    data_collator=data_collator,\n",
        ")\n",
        "\n",
        "trainer_1.train()\n",
        "\n",
        "#trainer_1.model.save_pretrained(path + '/FT_1/')\n",
        "model_ft_1 = AutoModelForQuestionAnswering.from_pretrained(path + '/FT_1/')"
      ]
    },
    {
      "cell_type": "markdown",
      "metadata": {
        "id": "xzbEh8nk_E4r"
      },
      "source": [
        "#### Evaluating"
      ]
    },
    {
      "cell_type": "code",
      "source": [
        "performance_metrics(model_ft_1, tokenizer)"
      ],
      "metadata": {
        "id": "_lhaLhCT9FY8"
      },
      "execution_count": null,
      "outputs": []
    },
    {
      "cell_type": "markdown",
      "metadata": {
        "id": "VglPw7xLtcpC"
      },
      "source": [
        "### Fine tuning for 2 epoch - Warm up"
      ]
    },
    {
      "cell_type": "code",
      "execution_count": null,
      "metadata": {
        "id": "jpaEUxcetcpJ"
      },
      "outputs": [],
      "source": [
        "training_args = TrainingArguments(\n",
        "    output_dir=path,\n",
        "    learning_rate=2e-5,\n",
        "    per_device_train_batch_size=16,\n",
        "    per_device_eval_batch_size=16,\n",
        "    num_train_epochs=2,\n",
        "    logging_steps=500,\n",
        "    weight_decay=0.01,\n",
        "    warmup_ratio=0.03,\n",
        ")\n",
        "\n",
        "trainer_wu = Trainer(\n",
        "    model=model,\n",
        "    args=training_args,\n",
        "    train_dataset=tokenized_squad[\"train\"],\n",
        "    eval_dataset=tokenized_squad[\"test\"],\n",
        "    tokenizer=tokenizer,\n",
        "    data_collator=data_collator,\n",
        ")\n",
        "\n",
        "trainer_wu.train()\n",
        "\n",
        "#trainer_wu.model.save_pretrained(path + '/WU/')\n",
        "model_ft_wu = AutoModelForQuestionAnswering.from_pretrained(path + '/WU/')"
      ]
    },
    {
      "cell_type": "markdown",
      "metadata": {
        "id": "9RBH5y_klohF"
      },
      "source": [
        "#### Evaluating"
      ]
    },
    {
      "cell_type": "code",
      "execution_count": null,
      "metadata": {
        "id": "MRzYqROZlohG"
      },
      "outputs": [],
      "source": [
        "model_ft_wu = AutoModelForQuestionAnswering.from_pretrained(path + '/WU/')"
      ]
    },
    {
      "cell_type": "code",
      "source": [
        "performance_metrics(model_ft_wu, tokenizer)"
      ],
      "metadata": {
        "id": "l_oaI08P9H7z"
      },
      "execution_count": null,
      "outputs": []
    },
    {
      "cell_type": "markdown",
      "metadata": {
        "id": "QuCTTwCCAHtf"
      },
      "source": [
        "### Fine tuning for 4 epoch"
      ]
    },
    {
      "cell_type": "code",
      "execution_count": null,
      "metadata": {
        "id": "9Ulr09c8AHtm"
      },
      "outputs": [],
      "source": [
        "training_args = TrainingArguments(\n",
        "    output_dir=path,\n",
        "    learning_rate=2e-5,\n",
        "    per_device_train_batch_size=16,\n",
        "    per_device_eval_batch_size=16,\n",
        "    num_train_epochs=4,\n",
        "    logging_steps=500,\n",
        "    weight_decay=0.01\n",
        ")\n",
        "\n",
        "trainer_4 = Trainer(\n",
        "    model=model,\n",
        "    args=training_args,\n",
        "    train_dataset=tokenized_squad[\"train\"],\n",
        "    eval_dataset=tokenized_squad[\"test\"],\n",
        "    tokenizer=tokenizer,\n",
        "    data_collator=data_collator,\n",
        ")\n",
        "\n",
        "trainer_4.train()\n",
        "\n",
        "trainer_4.model.save_pretrained(path + '/FT_4/')\n",
        "model_ft_4 = AutoModelForQuestionAnswering.from_pretrained(path + '/FT_4/')"
      ]
    },
    {
      "cell_type": "markdown",
      "metadata": {
        "id": "WhEAs-Lm3LAo"
      },
      "source": [
        "#### Evaluating"
      ]
    },
    {
      "cell_type": "code",
      "source": [
        "performance_metrics(model_ft_4, tokenizer)"
      ],
      "metadata": {
        "id": "Ww7a_ZNC9IHO"
      },
      "execution_count": null,
      "outputs": []
    },
    {
      "cell_type": "markdown",
      "source": [
        "### Reduced Dataset"
      ],
      "metadata": {
        "id": "eomjjVAKuLDW"
      }
    },
    {
      "cell_type": "code",
      "source": [
        "squad = load_dataset(\"squad\", split=\"train[:5000]\")"
      ],
      "metadata": {
        "id": "qB52y_T8h4lL"
      },
      "execution_count": null,
      "outputs": []
    },
    {
      "cell_type": "code",
      "execution_count": null,
      "metadata": {
        "id": "qOfVI29EuOVK"
      },
      "outputs": [],
      "source": [
        "squad = squad.train_test_split(test_size=0.2)"
      ]
    },
    {
      "cell_type": "code",
      "source": [
        "model = AutoModelForQuestionAnswering.from_pretrained(\"distilbert-base-uncased\")\n",
        "tokenizer = AutoTokenizer.from_pretrained(\"distilbert-base-uncased\", trust_remote_code=True)\n",
        "tokenized_squad = squad.map(preprocess_function, batched=True)"
      ],
      "metadata": {
        "id": "4AN5T2fCunF5"
      },
      "execution_count": null,
      "outputs": []
    },
    {
      "cell_type": "code",
      "source": [
        "training_args = TrainingArguments(\n",
        "    output_dir=path,\n",
        "    learning_rate=2e-5,\n",
        "    per_device_train_batch_size=16,\n",
        "    per_device_eval_batch_size=16,\n",
        "    num_train_epochs=2,\n",
        "    logging_steps=50,\n",
        "    weight_decay=0.01\n",
        ")\n",
        "\n",
        "trainer_rd = Trainer(\n",
        "    model=model,\n",
        "    args=training_args,\n",
        "    train_dataset=tokenized_squad[\"train\"],\n",
        "    eval_dataset=tokenized_squad[\"test\"],\n",
        "    tokenizer=tokenizer,\n",
        "    data_collator=data_collator,\n",
        ")\n",
        "\n",
        "trainer_rd.train()\n",
        "\n",
        "#trainer_rd.model.save_pretrained(path + '/RD/')\n",
        "model_ft_rd = AutoModelForQuestionAnswering.from_pretrained(path + '/RD/')"
      ],
      "metadata": {
        "id": "Ap6jGOEquRX-"
      },
      "execution_count": null,
      "outputs": []
    },
    {
      "cell_type": "markdown",
      "metadata": {
        "id": "FfbE7BKAmmP5"
      },
      "source": [
        "#### Evaluating"
      ]
    },
    {
      "cell_type": "code",
      "execution_count": null,
      "metadata": {
        "id": "bh5k2y7KmmP5"
      },
      "outputs": [],
      "source": [
        "model_ft_rd = AutoModelForQuestionAnswering.from_pretrained(path + '/RD/')"
      ]
    },
    {
      "cell_type": "code",
      "source": [
        "performance_metrics(model_ft_rd, tokenizer)"
      ],
      "metadata": {
        "id": "TwBVHoUgF7uA"
      },
      "execution_count": null,
      "outputs": []
    },
    {
      "cell_type": "markdown",
      "metadata": {
        "id": "A9C_dTTOKi-m"
      },
      "source": [
        "### BERT"
      ]
    },
    {
      "cell_type": "code",
      "execution_count": null,
      "metadata": {
        "id": "xjuyy8r6Kls5"
      },
      "outputs": [],
      "source": [
        "tokenizer_bert = AutoTokenizer.from_pretrained(\"bert-base-uncased\")\n",
        "tokenized_squad = squad.map(preprocess_function, batched=True)"
      ]
    },
    {
      "cell_type": "code",
      "execution_count": null,
      "metadata": {
        "id": "7kEW2QqdKrgx",
        "colab": {
          "base_uri": "https://localhost:8080/"
        },
        "outputId": "c4f8beda-d7cc-4a59-9df2-2159cd81456a"
      },
      "outputs": [
        {
          "output_type": "stream",
          "name": "stderr",
          "text": [
            "Some weights of BertForQuestionAnswering were not initialized from the model checkpoint at bert-base-uncased and are newly initialized: ['qa_outputs.bias', 'qa_outputs.weight']\n",
            "You should probably TRAIN this model on a down-stream task to be able to use it for predictions and inference.\n"
          ]
        }
      ],
      "source": [
        "model = AutoModelForQuestionAnswering.from_pretrained(\"bert-base-uncased\")"
      ]
    },
    {
      "cell_type": "code",
      "execution_count": null,
      "metadata": {
        "id": "N2xBF-C-LL8A"
      },
      "outputs": [],
      "source": [
        "training_args = TrainingArguments(\n",
        "    output_dir=path,\n",
        "    learning_rate=2e-5,\n",
        "    per_device_train_batch_size=2,\n",
        "    per_device_eval_batch_size=2,\n",
        "    num_train_epochs=2,\n",
        "    logging_steps=500,\n",
        "    weight_decay=0.01\n",
        ")\n",
        "\n",
        "trainer_bert = Trainer(\n",
        "    model=model,\n",
        "    args=training_args,\n",
        "    train_dataset=tokenized_squad[\"train\"],\n",
        "    eval_dataset=tokenized_squad[\"test\"],\n",
        "    tokenizer=tokenizer_bert,\n",
        "    data_collator=data_collator,\n",
        ")\n",
        "\n",
        "trainer_bert.train()\n",
        "trainer_bert.model.save_pretrained(path + '/FT_bert/')\n",
        "model_bert = AutoModelForQuestionAnswering.from_pretrained(path + '/FT_bert/')"
      ]
    },
    {
      "cell_type": "markdown",
      "metadata": {
        "id": "OUv8_uKOq2wX"
      },
      "source": [
        "#### Evaluating"
      ]
    },
    {
      "cell_type": "code",
      "source": [
        "performance_metrics(model_bert, tokenizer_bert)"
      ],
      "metadata": {
        "colab": {
          "base_uri": "https://localhost:8080/"
        },
        "id": "_EfmeA2B9IX8",
        "outputId": "94c2b787-6a07-44d0-d121-2cbc965adffa"
      },
      "execution_count": null,
      "outputs": [
        {
          "output_type": "stream",
          "name": "stdout",
          "text": [
            "{'exact_match': 59.3, 'f1': 64.89730164762767}\n"
          ]
        }
      ]
    }
  ],
  "metadata": {
    "accelerator": "GPU",
    "colab": {
      "provenance": [],
      "gpuType": "T4"
    },
    "kernelspec": {
      "display_name": "Python 3",
      "name": "python3"
    },
    "language_info": {
      "name": "python"
    }
  },
  "nbformat": 4,
  "nbformat_minor": 0
}